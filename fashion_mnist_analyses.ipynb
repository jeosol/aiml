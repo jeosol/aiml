{
 "cells": [
  {
   "cell_type": "markdown",
   "metadata": {
    "colab_type": "text",
    "id": "view-in-github"
   },
   "source": [
    "<a href=\"https://colab.research.google.com/github/jeosol/aiml/blob/main/fashion_mnist_analyses.ipynb\" target=\"_parent\"><img src=\"https://colab.research.google.com/assets/colab-badge.svg\" alt=\"Open In Colab\"/></a>"
   ]
  },
  {
   "cell_type": "code",
   "execution_count": null,
   "metadata": {
    "id": "_tZWRAoan0cK"
   },
   "outputs": [],
   "source": []
  },
  {
   "cell_type": "code",
   "execution_count": 1,
   "metadata": {
    "colab": {
     "base_uri": "https://localhost:8080/"
    },
    "id": "tWcoV3eAJOtX",
    "outputId": "7d1eb673-4eef-422c-b63b-7e0c99b20cf5"
   },
   "outputs": [
    {
     "name": "stdout",
     "output_type": "stream",
     "text": [
      "Cloning into 'aiml'...\n",
      "remote: Enumerating objects: 23, done.\u001b[K\n",
      "remote: Counting objects: 100% (23/23), done.\u001b[K\n",
      "remote: Compressing objects: 100% (20/20), done.\u001b[K\n",
      "remote: Total 23 (delta 5), reused 6 (delta 1), pack-reused 0\u001b[K\n",
      "Unpacking objects: 100% (23/23), done.\n"
     ]
    }
   ],
   "source": [
    "!git clone https://github.com/jeosol/aiml.git"
   ]
  },
  {
   "cell_type": "code",
   "execution_count": 1,
   "metadata": {
    "colab": {
     "base_uri": "https://localhost:8080/"
    },
    "id": "qKTgD6udssj2",
    "outputId": "47ed9319-37ca-4576-b23f-d1f527535331"
   },
   "outputs": [
    {
     "ename": "ModuleNotFoundError",
     "evalue": "No module named 'google.colab'",
     "output_type": "error",
     "traceback": [
      "\u001b[0;31m---------------------------------------------------------------------------\u001b[0m",
      "\u001b[0;31mModuleNotFoundError\u001b[0m                       Traceback (most recent call last)",
      "\u001b[0;32m<ipython-input-1-4996ee3d8d09>\u001b[0m in \u001b[0;36m<module>\u001b[0;34m\u001b[0m\n\u001b[0;32m----> 1\u001b[0;31m \u001b[0;32mfrom\u001b[0m \u001b[0mgoogle\u001b[0m\u001b[0;34m.\u001b[0m\u001b[0mcolab\u001b[0m \u001b[0;32mimport\u001b[0m \u001b[0mdrive\u001b[0m\u001b[0;34m\u001b[0m\u001b[0;34m\u001b[0m\u001b[0m\n\u001b[0m\u001b[1;32m      2\u001b[0m \u001b[0mdrive\u001b[0m\u001b[0;34m.\u001b[0m\u001b[0mmount\u001b[0m\u001b[0;34m(\u001b[0m\u001b[0;34m'/content/gdrive'\u001b[0m\u001b[0;34m)\u001b[0m\u001b[0;34m\u001b[0m\u001b[0;34m\u001b[0m\u001b[0m\n",
      "\u001b[0;31mModuleNotFoundError\u001b[0m: No module named 'google.colab'"
     ]
    }
   ],
   "source": [
    "#from google.colab import drive\n",
    "#drive.mount('/content/gdrive')"
   ]
  },
  {
   "cell_type": "code",
   "execution_count": 2,
   "metadata": {
    "id": "VANgv3UdlUM9"
   },
   "outputs": [],
   "source": [
    "#import sys\n",
    "#sys.path.append('/content/gdrive/MyDrive/python')"
   ]
  },
  {
   "cell_type": "code",
   "execution_count": 3,
   "metadata": {
    "id": "VkFMYoxSlYIm"
   },
   "outputs": [],
   "source": [
    "import utils as nn_utils"
   ]
  },
  {
   "cell_type": "markdown",
   "metadata": {
    "id": "p29nMyEXJPLt"
   },
   "source": [
    "## Several DL concepts applied to the MNIST datasetth"
   ]
  },
  {
   "cell_type": "code",
   "execution_count": 6,
   "metadata": {
    "id": "bCQ8y7d1GopG"
   },
   "outputs": [],
   "source": [
    "#%tensorflow_version 2.x"
   ]
  },
  {
   "cell_type": "code",
   "execution_count": 8,
   "metadata": {
    "id": "1IByEAimCqrf"
   },
   "outputs": [],
   "source": [
    "import tensorflow as tf\n",
    "from tensorflow import keras\n",
    "import numpy as np\n",
    "import pandas as df\n",
    "import matplotlib.pyplot as plt"
   ]
  },
  {
   "cell_type": "markdown",
   "metadata": {
    "id": "S79DFpNOJ5vU"
   },
   "source": [
    "**Load the MNIST data using keras API**"
   ]
  },
  {
   "cell_type": "code",
   "execution_count": 9,
   "metadata": {
    "id": "jnVb9j01Ct1-"
   },
   "outputs": [],
   "source": [
    "fashion_mnist = keras.datasets.fashion_mnist\n"
   ]
  },
  {
   "cell_type": "code",
   "execution_count": 10,
   "metadata": {
    "colab": {
     "base_uri": "https://localhost:8080/"
    },
    "id": "2onAH-t8C926",
    "outputId": "51389975-c5ef-4b65-93a2-74076266c3d3"
   },
   "outputs": [],
   "source": [
    "(X_train_full, y_train_full), (X_test, y_test) = fashion_mnist.load_data()"
   ]
  },
  {
   "cell_type": "code",
   "execution_count": 11,
   "metadata": {
    "id": "J30uvw9_C_er"
   },
   "outputs": [],
   "source": [
    "# Normalize the data so we get good performance with gradient descent algorithm\n",
    "X_valid, X_train = X_train_full[:5000]/255.0, X_train_full[5000:]/255.0\n",
    "y_valid, y_train = y_train_full[:5000], y_train_full[5000:]\n",
    "X_test = X_test/255.0"
   ]
  },
  {
   "cell_type": "code",
   "execution_count": 12,
   "metadata": {
    "id": "No_T7FEhD8aW"
   },
   "outputs": [],
   "source": [
    "class_names = ['T-shirt/top', 'Trouser', 'Pullover', 'Dress', 'Coat', 'Sandal', 'Shirt', 'Sneaker', 'Bag', 'Ankle boot']"
   ]
  },
  {
   "cell_type": "markdown",
   "metadata": {
    "id": "125a2IW0KXgr"
   },
   "source": [
    "Simple **setup**"
   ]
  },
  {
   "cell_type": "code",
   "execution_count": 13,
   "metadata": {
    "id": "ip0-X5t1D_hV"
   },
   "outputs": [],
   "source": [
    "# Create the model and add the layers \n",
    "model = keras.models.Sequential()\n",
    "model.add(keras.layers.Flatten(input_shape=[28,28]))\n",
    "model.add(keras.layers.Dense(300, activation='relu'))\n",
    "model.add(keras.layers.Dense(100, activation='relu'))\n",
    "model.add(keras.layers.Dense(10, activation='softmax'))"
   ]
  },
  {
   "cell_type": "code",
   "execution_count": 14,
   "metadata": {
    "colab": {
     "base_uri": "https://localhost:8080/"
    },
    "id": "54chSwLhEa9u",
    "outputId": "ab1d321e-8f70-4d02-92ba-91d738edef7e"
   },
   "outputs": [
    {
     "name": "stdout",
     "output_type": "stream",
     "text": [
      "Model: \"sequential\"\n",
      "_________________________________________________________________\n",
      "Layer (type)                 Output Shape              Param #   \n",
      "=================================================================\n",
      "flatten (Flatten)            (None, 784)               0         \n",
      "_________________________________________________________________\n",
      "dense (Dense)                (None, 300)               235500    \n",
      "_________________________________________________________________\n",
      "dense_1 (Dense)              (None, 100)               30100     \n",
      "_________________________________________________________________\n",
      "dense_2 (Dense)              (None, 10)                1010      \n",
      "=================================================================\n",
      "Total params: 266,610\n",
      "Trainable params: 266,610\n",
      "Non-trainable params: 0\n",
      "_________________________________________________________________\n"
     ]
    }
   ],
   "source": [
    "model.summary()"
   ]
  },
  {
   "cell_type": "code",
   "execution_count": 15,
   "metadata": {
    "id": "AyYnObowEb7t"
   },
   "outputs": [],
   "source": [
    "# compile the model\n",
    "model.compile(loss='sparse_categorical_crossentropy', optimizer='sgd', metrics=['accuracy'])"
   ]
  },
  {
   "cell_type": "code",
   "execution_count": 16,
   "metadata": {
    "id": "kdSLbjM8EnOF"
   },
   "outputs": [],
   "source": [
    "# run the model\n",
    "history = model.fit(X_train, y_train, batch_size=32, epochs=10, validation_data=(X_valid, y_valid), verbose=0)"
   ]
  },
  {
   "cell_type": "code",
   "execution_count": 17,
   "metadata": {
    "id": "udiePrj9EvFg"
   },
   "outputs": [],
   "source": [
    "# plot the training and validation accuracy and loss\n",
    "import pandas as pd\n",
    "df = pd.DataFrame(history.history)"
   ]
  },
  {
   "cell_type": "code",
   "execution_count": 18,
   "metadata": {
    "colab": {
     "base_uri": "https://localhost:8080/",
     "height": 513
    },
    "id": "w82kyMYBFG46",
    "outputId": "b988e71d-f64c-47b1-8040-58b2b4f9f69c"
   },
   "outputs": [
    {
     "data": {
      "image/png": "[encoded data removed]",
      "text/plain": [
       "<Figure size 720x576 with 1 Axes>"
      ]
     },
     "metadata": {
      "needs_background": "light"
     },
     "output_type": "display_data"
    }
   ],
   "source": [
    "import matplotlib.pyplot as plt\n",
    "df.plot(figsize=(10,8))\n",
    "plt.title('Training and Validation Accuracy and Loss')\n",
    "plt.ylim([0, 1.])\n",
    "plt.xlabel('Epochs')\n",
    "plt.ylabel('Accuracy, Loss')\n",
    "plt.grid(True)\n"
   ]
  },
  {
   "cell_type": "markdown",
   "metadata": {
    "id": "jSEDdr8fnku_"
   },
   "source": [
    "**Using a function to automatically evaluate different NN models**"
   ]
  },
  {
   "cell_type": "markdown",
   "metadata": {
    "id": "A9v2iZb0nmW9"
   },
   "source": [
    "Using the nn_utils function **create_nn_models** to automatically create different NN architectures (based on number of neurons in the middle layer)and also automatically run the NN models.\n",
    "\n",
    "Notice that the input layer and output layer are added automatically. The output layer is a Dense layer with softmax activation. \n",
    "\n",
    "Basically, the function can run several NN models based on the arguments specified. To run an NN with one hidden layer with 300 neurons, we specify [[300]] as the argument. To run two different NN architectures each with 300 and 200 hidden layers, we pass the arguments [[300], [200]]. Additionally to run the above activations with multiple hidden layers we can specify the following:\n",
    "[[300, 200, 100], [200, 100, 50]]. This will run two NN models each with 3 hidden layers and the number of specified in the list parameters. Specifically, the first model has 3 dense hidden layers with 300, 200, 100 neurons respectively."
   ]
  },
  {
   "cell_type": "code",
   "execution_count": 27,
   "metadata": {
    "colab": {
     "base_uri": "https://localhost:8080/",
     "height": 181
    },
    "id": "JsCYyQrNsrEm",
    "outputId": "f149d864-2796-4ff2-ce55-10a06bd48de6"
   },
   "outputs": [
    {
     "name": "stdout",
     "output_type": "stream",
     "text": [
      "Epoch 1/2\n",
      "1719/1719 [==============================] - 2s 1ms/step - loss: 0.7628 - accuracy: 0.7555 - val_loss: 0.5422 - val_accuracy: 0.8242\n",
      "Epoch 2/2\n",
      "1719/1719 [==============================] - 2s 1ms/step - loss: 0.5234 - accuracy: 0.8234 - val_loss: 0.4894 - val_accuracy: 0.8324\n",
      "Epoch 1/2\n",
      "1719/1719 [==============================] - 2s 1ms/step - loss: 0.7873 - accuracy: 0.7413 - val_loss: 0.5533 - val_accuracy: 0.8210\n",
      "Epoch 2/2\n",
      "1719/1719 [==============================] - 2s 1ms/step - loss: 0.5340 - accuracy: 0.8178 - val_loss: 0.4952 - val_accuracy: 0.8342\n",
      "Epoch 1/2\n",
      "1719/1719 [==============================] - 2s 793us/step - loss: 0.9331 - accuracy: 0.6889 - val_loss: 0.6556 - val_accuracy: 0.7806\n",
      "Epoch 2/2\n",
      "1719/1719 [==============================] - 1s 743us/step - loss: 0.6023 - accuracy: 0.7943 - val_loss: 0.5421 - val_accuracy: 0.8182\n",
      "#hidden_layer(s)=[100] Cost=[0.762752890586853, 0.5233798027038574], Accuracy=[0.755545437335968, 0.8234000205993652] Val_Cost=[0.5422120094299316, 0.489411324262619], Val_Accuracy=[0.8241999745368958, 0.8324000239372253]\n",
      "#hidden_layer(s)=[50] Cost=[0.7873111963272095, 0.5339778661727905], Accuracy=[0.7413272857666016, 0.817836344242096] Val_Cost=[0.5532758235931396, 0.49519434571266174], Val_Accuracy=[0.8209999799728394, 0.8342000246047974]\n",
      "#hidden_layer(s)=[10] Cost=[0.9331384301185608, 0.6022738814353943], Accuracy=[0.688945472240448, 0.7942727208137512] Val_Cost=[0.6556388735771179, 0.542121410369873], Val_Accuracy=[0.7806000113487244, 0.8181999921798706]\n"
     ]
    }
   ],
   "source": [
    "nn_hidden_layer_info = [[100], [50], [10]]\n",
    "models, case_names = nn_utils.run_nn_models(X_train, y_train, X_valid, y_valid, nn_hidden_layer_info, epochs=2, verbose=1)"
   ]
  },
  {
   "cell_type": "markdown",
   "metadata": {},
   "source": [
    "## Loss and Accuracy Plots"
   ]
  },
  {
   "cell_type": "code",
   "execution_count": 28,
   "metadata": {},
   "outputs": [
    {
     "data": {
      "image/png": "[encoded data removed]",
      "text/plain": [
       "<Figure size 432x288 with 1 Axes>"
      ]
     },
     "metadata": {
      "needs_background": "light"
     },
     "output_type": "display_data"
    },
    {
     "data": {
      "image/png": "[encoded data removed]",
      "text/plain": [
       "<Figure size 432x288 with 1 Axes>"
      ]
     },
     "metadata": {
      "needs_background": "light"
     },
     "output_type": "display_data"
    }
   ],
   "source": [
    "nn_utils.plot_info(models, case_names)"
   ]
  },
  {
   "cell_type": "code",
   "execution_count": 48,
   "metadata": {
    "id": "WC-WIIRooBN8"
   },
   "outputs": [],
   "source": []
  }
 ],
 "metadata": {
  "colab": {
   "authorship_tag": "ABX9TyMGNX/doVvrWf3bNyKGC/vP",
   "include_colab_link": true,
   "mount_file_id": "https://github.com/jeosol/aiml/blob/main/fashion_mnist_analyses.ipynb",
   "name": "Untitled0.ipynb",
   "provenance": []
  },
  "kernelspec": {
   "display_name": "Python 3",
   "language": "python",
   "name": "python3"
  },
  "language_info": {
   "codemirror_mode": {
    "name": "ipython",
    "version": 3
   },
   "file_extension": ".py",
   "mimetype": "text/x-python",
   "name": "python",
   "nbconvert_exporter": "python",
   "pygments_lexer": "ipython3",
   "version": "3.9.0"
  }
 },
 "nbformat": 4,
 "nbformat_minor": 1
}

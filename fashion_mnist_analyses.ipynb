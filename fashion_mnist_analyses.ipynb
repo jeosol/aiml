{
 "cells": [
  {
   "cell_type": "markdown",
   "metadata": {
    "colab_type": "text",
    "id": "view-in-github"
   },
   "source": [
    "<a href=\"https://colab.research.google.com/github/jeosol/aiml/blob/main/fashion_mnist_analyses.ipynb\" target=\"_parent\"><img src=\"https://colab.research.google.com/assets/colab-badge.svg\" alt=\"Open In Colab\"/></a>"
   ]
  },
  {
   "cell_type": "code",
   "execution_count": null,
   "metadata": {
    "id": "_tZWRAoan0cK"
   },
   "outputs": [],
   "source": []
  },
  {
   "cell_type": "code",
   "execution_count": 1,
   "metadata": {
    "colab": {
     "base_uri": "https://localhost:8080/"
    },
    "id": "tWcoV3eAJOtX",
    "outputId": "7d1eb673-4eef-422c-b63b-7e0c99b20cf5"
   },
   "outputs": [
    {
     "name": "stdout",
     "output_type": "stream",
     "text": [
      "Cloning into 'aiml'...\n",
      "remote: Enumerating objects: 23, done.\u001b[K\n",
      "remote: Counting objects: 100% (23/23), done.\u001b[K\n",
      "remote: Compressing objects: 100% (20/20), done.\u001b[K\n",
      "remote: Total 23 (delta 5), reused 6 (delta 1), pack-reused 0\u001b[K\n",
      "Unpacking objects: 100% (23/23), done.\n"
     ]
    }
   ],
   "source": [
    "!git clone https://github.com/jeosol/aiml.git"
   ]
  },
  {
   "cell_type": "code",
   "execution_count": 1,
   "metadata": {
    "colab": {
     "base_uri": "https://localhost:8080/"
    },
    "id": "qKTgD6udssj2",
    "outputId": "47ed9319-37ca-4576-b23f-d1f527535331"
   },
   "outputs": [
    {
     "ename": "ModuleNotFoundError",
     "evalue": "No module named 'google.colab'",
     "output_type": "error",
     "traceback": [
      "\u001b[0;31m---------------------------------------------------------------------------\u001b[0m",
      "\u001b[0;31mModuleNotFoundError\u001b[0m                       Traceback (most recent call last)",
      "\u001b[0;32m<ipython-input-1-4996ee3d8d09>\u001b[0m in \u001b[0;36m<module>\u001b[0;34m\u001b[0m\n\u001b[0;32m----> 1\u001b[0;31m \u001b[0;32mfrom\u001b[0m \u001b[0mgoogle\u001b[0m\u001b[0;34m.\u001b[0m\u001b[0mcolab\u001b[0m \u001b[0;32mimport\u001b[0m \u001b[0mdrive\u001b[0m\u001b[0;34m\u001b[0m\u001b[0;34m\u001b[0m\u001b[0m\n\u001b[0m\u001b[1;32m      2\u001b[0m \u001b[0mdrive\u001b[0m\u001b[0;34m.\u001b[0m\u001b[0mmount\u001b[0m\u001b[0;34m(\u001b[0m\u001b[0;34m'/content/gdrive'\u001b[0m\u001b[0;34m)\u001b[0m\u001b[0;34m\u001b[0m\u001b[0;34m\u001b[0m\u001b[0m\n",
      "\u001b[0;31mModuleNotFoundError\u001b[0m: No module named 'google.colab'"
     ]
    }
   ],
   "source": [
    "#from google.colab import drive\n",
    "#drive.mount('/content/gdrive')"
   ]
  },
  {
   "cell_type": "code",
   "execution_count": 2,
   "metadata": {
    "id": "VANgv3UdlUM9"
   },
   "outputs": [],
   "source": [
    "#import sys\n",
    "#sys.path.append('/content/gdrive/MyDrive/python')"
   ]
  },
  {
   "cell_type": "code",
   "execution_count": 3,
   "metadata": {
    "id": "VkFMYoxSlYIm"
   },
   "outputs": [],
   "source": [
    "import utils as nn_utils"
   ]
  },
  {
   "cell_type": "markdown",
   "metadata": {
    "id": "p29nMyEXJPLt"
   },
   "source": [
    "## Several DL concepts applied to the MNIST datasetth"
   ]
  },
  {
   "cell_type": "code",
   "execution_count": 6,
   "metadata": {
    "id": "bCQ8y7d1GopG"
   },
   "outputs": [],
   "source": [
    "#%tensorflow_version 2.x"
   ]
  },
  {
   "cell_type": "code",
   "execution_count": 8,
   "metadata": {
    "id": "1IByEAimCqrf"
   },
   "outputs": [],
   "source": [
    "import tensorflow as tf\n",
    "from tensorflow import keras\n",
    "import numpy as np\n",
    "import pandas as df\n",
    "import matplotlib.pyplot as plt"
   ]
  },
  {
   "cell_type": "markdown",
   "metadata": {
    "id": "S79DFpNOJ5vU"
   },
   "source": [
    "**Load the MNIST data using keras API**"
   ]
  },
  {
   "cell_type": "code",
   "execution_count": 9,
   "metadata": {
    "id": "jnVb9j01Ct1-"
   },
   "outputs": [],
   "source": [
    "fashion_mnist = keras.datasets.fashion_mnist\n"
   ]
  },
  {
   "cell_type": "code",
   "execution_count": 10,
   "metadata": {
    "colab": {
     "base_uri": "https://localhost:8080/"
    },
    "id": "2onAH-t8C926",
    "outputId": "51389975-c5ef-4b65-93a2-74076266c3d3"
   },
   "outputs": [],
   "source": [
    "(X_train_full, y_train_full), (X_test, y_test) = fashion_mnist.load_data()"
   ]
  },
  {
   "cell_type": "code",
   "execution_count": 11,
   "metadata": {
    "id": "J30uvw9_C_er"
   },
   "outputs": [],
   "source": [
    "# Normalize the data so we get good performance with gradient descent algorithm\n",
    "X_valid, X_train = X_train_full[:5000]/255.0, X_train_full[5000:]/255.0\n",
    "y_valid, y_train = y_train_full[:5000], y_train_full[5000:]\n",
    "X_test = X_test/255.0"
   ]
  },
  {
   "cell_type": "code",
   "execution_count": 12,
   "metadata": {
    "id": "No_T7FEhD8aW"
   },
   "outputs": [],
   "source": [
    "class_names = ['T-shirt/top', 'Trouser', 'Pullover', 'Dress', 'Coat', 'Sandal', 'Shirt', 'Sneaker', 'Bag', 'Ankle boot']"
   ]
  },
  {
   "cell_type": "markdown",
   "metadata": {
    "id": "125a2IW0KXgr"
   },
   "source": [
    "Simple **setup**"
   ]
  },
  {
   "cell_type": "code",
   "execution_count": 13,
   "metadata": {
    "id": "ip0-X5t1D_hV"
   },
   "outputs": [],
   "source": [
    "# Create the model and add the layers \n",
    "model = keras.models.Sequential()\n",
    "model.add(keras.layers.Flatten(input_shape=[28,28]))\n",
    "model.add(keras.layers.Dense(300, activation='relu'))\n",
    "model.add(keras.layers.Dense(100, activation='relu'))\n",
    "model.add(keras.layers.Dense(10, activation='softmax'))"
   ]
  },
  {
   "cell_type": "code",
   "execution_count": 14,
   "metadata": {
    "colab": {
     "base_uri": "https://localhost:8080/"
    },
    "id": "54chSwLhEa9u",
    "outputId": "ab1d321e-8f70-4d02-92ba-91d738edef7e"
   },
   "outputs": [
    {
     "name": "stdout",
     "output_type": "stream",
     "text": [
      "Model: \"sequential\"\n",
      "_________________________________________________________________\n",
      "Layer (type)                 Output Shape              Param #   \n",
      "=================================================================\n",
      "flatten (Flatten)            (None, 784)               0         \n",
      "_________________________________________________________________\n",
      "dense (Dense)                (None, 300)               235500    \n",
      "_________________________________________________________________\n",
      "dense_1 (Dense)              (None, 100)               30100     \n",
      "_________________________________________________________________\n",
      "dense_2 (Dense)              (None, 10)                1010      \n",
      "=================================================================\n",
      "Total params: 266,610\n",
      "Trainable params: 266,610\n",
      "Non-trainable params: 0\n",
      "_________________________________________________________________\n"
     ]
    }
   ],
   "source": [
    "model.summary()"
   ]
  },
  {
   "cell_type": "code",
   "execution_count": 15,
   "metadata": {
    "id": "AyYnObowEb7t"
   },
   "outputs": [],
   "source": [
    "# compile the model\n",
    "model.compile(loss='sparse_categorical_crossentropy', optimizer='sgd', metrics=['accuracy'])"
   ]
  },
  {
   "cell_type": "code",
   "execution_count": 16,
   "metadata": {
    "id": "kdSLbjM8EnOF"
   },
   "outputs": [],
   "source": [
    "# run the model\n",
    "history = model.fit(X_train, y_train, batch_size=32, epochs=10, validation_data=(X_valid, y_valid), verbose=0)"
   ]
  },
  {
   "cell_type": "code",
   "execution_count": 17,
   "metadata": {
    "id": "udiePrj9EvFg"
   },
   "outputs": [],
   "source": [
    "# plot the training and validation accuracy and loss\n",
    "import pandas as pd\n",
    "df = pd.DataFrame(history.history)"
   ]
  },
  {
   "cell_type": "code",
   "execution_count": 18,
   "metadata": {
    "colab": {
     "base_uri": "https://localhost:8080/",
     "height": 513
    },
    "id": "w82kyMYBFG46",
    "outputId": "b988e71d-f64c-47b1-8040-58b2b4f9f69c"
   },
   "outputs": [
    {
     "data": {
      "image/png": "[encoded data removed]",
      "text/plain": [
       "<Figure size 720x576 with 1 Axes>"
      ]
     },
     "metadata": {
      "needs_background": "light"
     },
     "output_type": "display_data"
    }
   ],
   "source": [
    "import matplotlib.pyplot as plt\n",
    "df.plot(figsize=(10,8))\n",
    "plt.title('Training and Validation Accuracy and Loss')\n",
    "plt.ylim([0, 1.])\n",
    "plt.xlabel('Epochs')\n",
    "plt.ylabel('Accuracy, Loss')\n",
    "plt.grid(True)\n"
   ]
  },
  {
   "cell_type": "markdown",
   "metadata": {
    "id": "jSEDdr8fnku_"
   },
   "source": [
    "**Using a function to automatically evaluate different NN models**"
   ]
  },
  {
   "cell_type": "markdown",
   "metadata": {
    "id": "A9v2iZb0nmW9"
   },
   "source": [
    "Using the nn_utils function **create_nn_models** to automatically create different NN architectures (based on number of neurons in the middle layer)and also automatically run the NN models.\n",
    "\n",
    "Notice that the input layer and output layer are added automatically. The output layer is a Dense layer with softmax activation. \n",
    "\n",
    "Basically, the function can run several NN models based on the arguments specified. To run an NN with one hidden layer with 300 neurons, we specify [[300]] as the argument. To run two different NN architectures each with 300 and 200 hidden layers, we pass the arguments [[300], [200]]. Additionally to run the above activations with multiple hidden layers we can specify the following:\n",
    "[[300, 200, 100], [200, 100, 50]]. This will run two NN models each with 3 hidden layers and the number of specified in the list parameters. Specifically, the first model has 3 dense hidden layers with 300, 200, 100 neurons respectively."
   ]
  },
  {
   "cell_type": "code",
   "execution_count": 22,
   "metadata": {
    "colab": {
     "base_uri": "https://localhost:8080/",
     "height": 181
    },
    "id": "JsCYyQrNsrEm",
    "outputId": "f149d864-2796-4ff2-ce55-10a06bd48de6"
   },
   "outputs": [
    {
     "name": "stdout",
     "output_type": "stream",
     "text": [
      "Epoch 1/10\n",
      "1719/1719 [==============================] - 2s 930us/step - loss: 0.7728 - accuracy: 0.7530 - val_loss: 0.5532 - val_accuracy: 0.8188\n",
      "Epoch 2/10\n",
      "1719/1719 [==============================] - 2s 885us/step - loss: 0.5247 - accuracy: 0.8216 - val_loss: 0.5026 - val_accuracy: 0.8282\n",
      "Epoch 3/10\n",
      "1719/1719 [==============================] - 2s 941us/step - loss: 0.4760 - accuracy: 0.8365 - val_loss: 0.4505 - val_accuracy: 0.8468\n",
      "Epoch 4/10\n",
      "1719/1719 [==============================] - 1s 871us/step - loss: 0.4489 - accuracy: 0.8456 - val_loss: 0.4297 - val_accuracy: 0.8548\n",
      "Epoch 5/10\n",
      "1719/1719 [==============================] - 1s 855us/step - loss: 0.4296 - accuracy: 0.8524 - val_loss: 0.4239 - val_accuracy: 0.8544\n",
      "Epoch 6/10\n",
      "1719/1719 [==============================] - 2s 905us/step - loss: 0.4160 - accuracy: 0.8556 - val_loss: 0.4085 - val_accuracy: 0.8612\n",
      "Epoch 7/10\n",
      "1719/1719 [==============================] - 1s 860us/step - loss: 0.4046 - accuracy: 0.8599 - val_loss: 0.4076 - val_accuracy: 0.8594\n",
      "Epoch 8/10\n",
      "1719/1719 [==============================] - 2s 889us/step - loss: 0.3944 - accuracy: 0.8629 - val_loss: 0.3925 - val_accuracy: 0.8670\n",
      "Epoch 9/10\n",
      "1719/1719 [==============================] - 2s 909us/step - loss: 0.3856 - accuracy: 0.8648 - val_loss: 0.3958 - val_accuracy: 0.8672\n",
      "Epoch 10/10\n",
      "1719/1719 [==============================] - 2s 895us/step - loss: 0.3780 - accuracy: 0.8684 - val_loss: 0.3800 - val_accuracy: 0.8660\n",
      "Epoch 1/10\n",
      "1719/1719 [==============================] - 2s 876us/step - loss: 0.7887 - accuracy: 0.7388 - val_loss: 0.5729 - val_accuracy: 0.8082\n",
      "Epoch 2/10\n",
      "1719/1719 [==============================] - 2s 879us/step - loss: 0.5393 - accuracy: 0.8168 - val_loss: 0.5068 - val_accuracy: 0.8336\n",
      "Epoch 3/10\n",
      "1719/1719 [==============================] - 1s 834us/step - loss: 0.4898 - accuracy: 0.8318 - val_loss: 0.4683 - val_accuracy: 0.8440\n",
      "Epoch 4/10\n",
      "1719/1719 [==============================] - 1s 831us/step - loss: 0.4620 - accuracy: 0.8404 - val_loss: 0.4568 - val_accuracy: 0.8424\n",
      "Epoch 5/10\n",
      "1719/1719 [==============================] - 2s 1ms/step - loss: 0.4431 - accuracy: 0.8470 - val_loss: 0.4286 - val_accuracy: 0.8572\n",
      "Epoch 6/10\n",
      "1719/1719 [==============================] - 2s 1ms/step - loss: 0.4276 - accuracy: 0.8525 - val_loss: 0.4282 - val_accuracy: 0.8566\n",
      "Epoch 7/10\n",
      "1719/1719 [==============================] - 2s 910us/step - loss: 0.4155 - accuracy: 0.8570 - val_loss: 0.4030 - val_accuracy: 0.8650\n",
      "Epoch 8/10\n",
      "1719/1719 [==============================] - 2s 929us/step - loss: 0.4050 - accuracy: 0.8603 - val_loss: 0.4002 - val_accuracy: 0.8632\n",
      "Epoch 9/10\n",
      "1719/1719 [==============================] - 1s 849us/step - loss: 0.3970 - accuracy: 0.8633 - val_loss: 0.3986 - val_accuracy: 0.8650\n",
      "Epoch 10/10\n",
      "1719/1719 [==============================] - 1s 853us/step - loss: 0.3889 - accuracy: 0.8653 - val_loss: 0.4004 - val_accuracy: 0.8640\n",
      "Epoch 1/10\n",
      "1719/1719 [==============================] - 1s 770us/step - loss: 1.0170 - accuracy: 0.6591 - val_loss: 0.6185 - val_accuracy: 0.7986\n",
      "Epoch 2/10\n",
      "1719/1719 [==============================] - 1s 724us/step - loss: 0.5799 - accuracy: 0.8009 - val_loss: 0.5314 - val_accuracy: 0.8216\n",
      "Epoch 3/10\n",
      "1719/1719 [==============================] - 1s 752us/step - loss: 0.5236 - accuracy: 0.8197 - val_loss: 0.4982 - val_accuracy: 0.8316\n",
      "Epoch 4/10\n",
      "1719/1719 [==============================] - 1s 699us/step - loss: 0.4969 - accuracy: 0.8269 - val_loss: 0.4799 - val_accuracy: 0.8396\n",
      "Epoch 5/10\n",
      "1719/1719 [==============================] - 1s 729us/step - loss: 0.4801 - accuracy: 0.8332 - val_loss: 0.4609 - val_accuracy: 0.8444\n",
      "Epoch 6/10\n",
      "1719/1719 [==============================] - 1s 741us/step - loss: 0.4688 - accuracy: 0.8371 - val_loss: 0.4528 - val_accuracy: 0.8466\n",
      "Epoch 7/10\n",
      "1719/1719 [==============================] - 1s 752us/step - loss: 0.4599 - accuracy: 0.8399 - val_loss: 0.4557 - val_accuracy: 0.8438\n",
      "Epoch 8/10\n",
      "1719/1719 [==============================] - 1s 727us/step - loss: 0.4522 - accuracy: 0.8424 - val_loss: 0.4430 - val_accuracy: 0.8492\n",
      "Epoch 9/10\n",
      "1719/1719 [==============================] - 1s 718us/step - loss: 0.4469 - accuracy: 0.8447 - val_loss: 0.4346 - val_accuracy: 0.8502\n",
      "Epoch 10/10\n",
      "1719/1719 [==============================] - 1s 709us/step - loss: 0.4409 - accuracy: 0.8468 - val_loss: 0.4589 - val_accuracy: 0.8414\n",
      "#hidden_layer(s)=[100] Cost=[0.7727614641189575, 0.5247496962547302, 0.47597751021385193, 0.44887906312942505, 0.4295959770679474, 0.4160042703151703, 0.4045524597167969, 0.3943690061569214, 0.38559648394584656, 0.37795916199684143], Accuracy=[0.753000020980835, 0.8215636610984802, 0.8364545702934265, 0.8456363677978516, 0.852400004863739, 0.8555636405944824, 0.8598726987838745, 0.8628727197647095, 0.864799976348877, 0.8683817982673645] Val_Cost=[0.5532339215278625, 0.502561092376709, 0.45046231150627136, 0.42971518635749817, 0.42387592792510986, 0.40847188234329224, 0.40759676694869995, 0.39250561594963074, 0.3958476185798645, 0.3799701929092407], Val_Accuracy=[0.8187999725341797, 0.8281999826431274, 0.8468000292778015, 0.8547999858856201, 0.8543999791145325, 0.8611999750137329, 0.8593999743461609, 0.8669999837875366, 0.8672000169754028, 0.8659999966621399]\n",
      "#hidden_layer(s)=[50] Cost=[0.788672149181366, 0.5393050909042358, 0.4898480772972107, 0.461996853351593, 0.4430527985095978, 0.4276266396045685, 0.41547900438308716, 0.40504375100135803, 0.39696675539016724, 0.38886529207229614], Accuracy=[0.7387818098068237, 0.8168363571166992, 0.831818163394928, 0.8403818011283875, 0.8470181822776794, 0.852509081363678, 0.8570181727409363, 0.8603454828262329, 0.8632909059524536, 0.8652908802032471] Val_Cost=[0.5729398727416992, 0.5068130493164062, 0.4682985842227936, 0.45675528049468994, 0.4286028742790222, 0.42816781997680664, 0.40298375487327576, 0.40015777945518494, 0.3986201882362366, 0.40040019154548645], Val_Accuracy=[0.8082000017166138, 0.8335999846458435, 0.843999981880188, 0.8424000144004822, 0.857200026512146, 0.8565999865531921, 0.8650000095367432, 0.8632000088691711, 0.8650000095367432, 0.8640000224113464]\n",
      "#hidden_layer(s)=[10] Cost=[1.0169998407363892, 0.5798739790916443, 0.5235778093338013, 0.4968523681163788, 0.4801202416419983, 0.46879756450653076, 0.45987415313720703, 0.4521651268005371, 0.44692307710647583, 0.4409376084804535], Accuracy=[0.6590545177459717, 0.8008727431297302, 0.819672703742981, 0.826872706413269, 0.8332181572914124, 0.8371272683143616, 0.8398727178573608, 0.8424181938171387, 0.8446545600891113, 0.8467817902565002] Val_Cost=[0.6185457706451416, 0.5314359068870544, 0.4981592893600464, 0.47988805174827576, 0.4609324336051941, 0.4528336822986603, 0.4557235836982727, 0.4429621696472168, 0.43464896082878113, 0.4589371979236603], Val_Accuracy=[0.7986000180244446, 0.8216000199317932, 0.83160001039505, 0.8396000266075134, 0.8443999886512756, 0.8465999960899353, 0.8438000082969666, 0.8492000102996826, 0.8501999974250793, 0.8414000272750854]\n"
     ]
    },
    {
     "data": {
      "image/png": "[encoded data removed]",
      "text/plain": [
       "<Figure size 432x288 with 1 Axes>"
      ]
     },
     "metadata": {
      "needs_background": "light"
     },
     "output_type": "display_data"
    },
    {
     "data": {
      "image/png": "[encoded data removed]",
      "text/plain": [
       "<Figure size 432x288 with 1 Axes>"
      ]
     },
     "metadata": {
      "needs_background": "light"
     },
     "output_type": "display_data"
    }
   ],
   "source": [
    "nn_hidden_layer_info = [[100], [50], [10]]\n",
    "models = nn_utils.run_nn_models(X_train, y_train, X_valid, y_valid, nn_hidden_layer_info, verbose=1)"
   ]
  },
  {
   "cell_type": "code",
   "execution_count": 48,
   "metadata": {
    "id": "WC-WIIRooBN8"
   },
   "outputs": [],
   "source": []
  }
 ],
 "metadata": {
  "colab": {
   "authorship_tag": "ABX9TyMGNX/doVvrWf3bNyKGC/vP",
   "include_colab_link": true,
   "mount_file_id": "https://github.com/jeosol/aiml/blob/main/fashion_mnist_analyses.ipynb",
   "name": "Untitled0.ipynb",
   "provenance": []
  },
  "kernelspec": {
   "display_name": "Python 3",
   "language": "python",
   "name": "python3"
  },
  "language_info": {
   "codemirror_mode": {
    "name": "ipython",
    "version": 3
   },
   "file_extension": ".py",
   "mimetype": "text/x-python",
   "name": "python",
   "nbconvert_exporter": "python",
   "pygments_lexer": "ipython3",
   "version": "3.9.0"
  }
 },
 "nbformat": 4,
 "nbformat_minor": 1
}

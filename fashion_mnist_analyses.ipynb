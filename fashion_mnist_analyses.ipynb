{
  "nbformat": 4,
  "nbformat_minor": 0,
  "metadata": {
    "colab": {
      "name": "Untitled0.ipynb",
      "provenance": [],
      "mount_file_id": "https://github.com/jeosol/aiml/blob/main/fashion_mnist_analyses.ipynb",
      "authorship_tag": "ABX9TyMGNX/doVvrWf3bNyKGC/vP",
      "include_colab_link": true
    },
    "kernelspec": {
      "name": "python3",
      "display_name": "Python 3"
    },
    "language_info": {
      "name": "python"
    }
  },
  "cells": [
    {
      "cell_type": "markdown",
      "metadata": {
        "id": "view-in-github",
        "colab_type": "text"
      },
      "source": [
        "<a href=\"https://colab.research.google.com/github/jeosol/aiml/blob/main/fashion_mnist_analyses.ipynb\" target=\"_parent\"><img src=\"https://colab.research.google.com/assets/colab-badge.svg\" alt=\"Open In Colab\"/></a>"
      ]
    },
    {
      "cell_type": "code",
      "metadata": {
        "id": "_tZWRAoan0cK"
      },
      "source": [
        ""
      ],
      "execution_count": null,
      "outputs": []
    },
    {
      "cell_type": "code",
      "metadata": {
        "id": "tWcoV3eAJOtX",
        "colab": {
          "base_uri": "https://localhost:8080/"
        },
        "outputId": "7d1eb673-4eef-422c-b63b-7e0c99b20cf5"
      },
      "source": [
        "!git clone https://github.com/jeosol/aiml.git"
      ],
      "execution_count": 1,
      "outputs": [
        {
          "output_type": "stream",
          "text": [
            "Cloning into 'aiml'...\n",
            "remote: Enumerating objects: 23, done.\u001b[K\n",
            "remote: Counting objects: 100% (23/23), done.\u001b[K\n",
            "remote: Compressing objects: 100% (20/20), done.\u001b[K\n",
            "remote: Total 23 (delta 5), reused 6 (delta 1), pack-reused 0\u001b[K\n",
            "Unpacking objects: 100% (23/23), done.\n"
          ],
          "name": "stdout"
        }
      ]
    },
    {
      "cell_type": "code",
      "metadata": {
        "colab": {
          "base_uri": "https://localhost:8080/"
        },
        "id": "qKTgD6udssj2",
        "outputId": "47ed9319-37ca-4576-b23f-d1f527535331"
      },
      "source": [
        "from google.colab import drive\n",
        "drive.mount('/content/gdrive')"
      ],
      "execution_count": 65,
      "outputs": [
        {
          "output_type": "stream",
          "text": [
            "Drive already mounted at /content/gdrive; to attempt to forcibly remount, call drive.mount(\"/content/gdrive\", force_remount=True).\n"
          ],
          "name": "stdout"
        }
      ]
    },
    {
      "cell_type": "code",
      "metadata": {
        "id": "VANgv3UdlUM9"
      },
      "source": [
        "import sys\n",
        "sys.path.append('/content/gdrive/MyDrive/python')"
      ],
      "execution_count": 66,
      "outputs": []
    },
    {
      "cell_type": "code",
      "metadata": {
        "id": "VkFMYoxSlYIm"
      },
      "source": [
        "import utils as nn_utils"
      ],
      "execution_count": 67,
      "outputs": []
    },
    {
      "cell_type": "markdown",
      "metadata": {
        "id": "p29nMyEXJPLt"
      },
      "source": [
        "Several DL concepts applied to the MNIST datasetth"
      ]
    },
    {
      "cell_type": "code",
      "metadata": {
        "id": "bCQ8y7d1GopG"
      },
      "source": [
        "%tensorflow_version 2.x"
      ],
      "execution_count": 52,
      "outputs": []
    },
    {
      "cell_type": "code",
      "metadata": {
        "colab": {
          "base_uri": "https://localhost:8080/"
        },
        "id": "H7ZEgMNmGwcP",
        "outputId": "2da16090-2db5-48c7-d70d-deb3ac47875d"
      },
      "source": [
        "print(tf.version)"
      ],
      "execution_count": 53,
      "outputs": [
        {
          "output_type": "stream",
          "text": [
            "<module 'tensorflow._api.v2.version' from '/usr/local/lib/python3.7/dist-packages/tensorflow/_api/v2/version/__init__.py'>\n"
          ],
          "name": "stdout"
        }
      ]
    },
    {
      "cell_type": "code",
      "metadata": {
        "id": "1IByEAimCqrf"
      },
      "source": [
        "import tensorflow as tf\n",
        "from tensorflow import keras\n",
        "import numpy as np\n",
        "import pandas as df\n",
        "import matplotlib.pyplot as plt"
      ],
      "execution_count": 54,
      "outputs": []
    },
    {
      "cell_type": "markdown",
      "metadata": {
        "id": "S79DFpNOJ5vU"
      },
      "source": [
        "**Load the MNIST data using keras API**"
      ]
    },
    {
      "cell_type": "code",
      "metadata": {
        "id": "jnVb9j01Ct1-"
      },
      "source": [
        "fashion_mnist = keras.datasets.fashion_mnist\n"
      ],
      "execution_count": 36,
      "outputs": []
    },
    {
      "cell_type": "code",
      "metadata": {
        "id": "2onAH-t8C926",
        "colab": {
          "base_uri": "https://localhost:8080/"
        },
        "outputId": "51389975-c5ef-4b65-93a2-74076266c3d3"
      },
      "source": [
        "(X_train_full, y_train_full), (X_test, y_test) = fashion_mnist.load_data()"
      ],
      "execution_count": 37,
      "outputs": [
        {
          "output_type": "stream",
          "text": [
            "Downloading data from https://storage.googleapis.com/tensorflow/tf-keras-datasets/train-labels-idx1-ubyte.gz\n",
            "32768/29515 [=================================] - 0s 0us/step\n",
            "Downloading data from https://storage.googleapis.com/tensorflow/tf-keras-datasets/train-images-idx3-ubyte.gz\n",
            "26427392/26421880 [==============================] - 0s 0us/step\n",
            "Downloading data from https://storage.googleapis.com/tensorflow/tf-keras-datasets/t10k-labels-idx1-ubyte.gz\n",
            "8192/5148 [===============================================] - 0s 0us/step\n",
            "Downloading data from https://storage.googleapis.com/tensorflow/tf-keras-datasets/t10k-images-idx3-ubyte.gz\n",
            "4423680/4422102 [==============================] - 0s 0us/step\n"
          ],
          "name": "stdout"
        }
      ]
    },
    {
      "cell_type": "code",
      "metadata": {
        "id": "J30uvw9_C_er"
      },
      "source": [
        "# Normalize the data so we get good performance with gradient descent algorithm\n",
        "X_valid, X_train = X_train_full[:5000]/255.0, X_train_full[5000:]/255.0\n",
        "y_valid, y_train = y_train_full[:5000], y_train_full[5000:]\n",
        "X_test = X_test/255.0"
      ],
      "execution_count": 38,
      "outputs": []
    },
    {
      "cell_type": "code",
      "metadata": {
        "id": "No_T7FEhD8aW"
      },
      "source": [
        "class_names = ['T-shirt/top', 'Trouser', 'Pullover', 'Dress', 'Coat', 'Sandal', 'Shirt', 'Sneaker', 'Bag', 'Ankle boot']"
      ],
      "execution_count": 39,
      "outputs": []
    },
    {
      "cell_type": "markdown",
      "metadata": {
        "id": "125a2IW0KXgr"
      },
      "source": [
        "Simple **setup**"
      ]
    },
    {
      "cell_type": "code",
      "metadata": {
        "id": "ip0-X5t1D_hV"
      },
      "source": [
        "# Create the model and add the layers \n",
        "model = keras.models.Sequential()\n",
        "model.add(keras.layers.Flatten(input_shape=[28,28]))\n",
        "model.add(keras.layers.Dense(300, activation='relu'))\n",
        "model.add(keras.layers.Dense(100, activation='relu'))\n",
        "model.add(keras.layers.Dense(10, activation='softmax'))"
      ],
      "execution_count": 40,
      "outputs": []
    },
    {
      "cell_type": "code",
      "metadata": {
        "colab": {
          "base_uri": "https://localhost:8080/"
        },
        "id": "54chSwLhEa9u",
        "outputId": "ab1d321e-8f70-4d02-92ba-91d738edef7e"
      },
      "source": [
        "model.summary()"
      ],
      "execution_count": 41,
      "outputs": [
        {
          "output_type": "stream",
          "text": [
            "Model: \"sequential_3\"\n",
            "_________________________________________________________________\n",
            "Layer (type)                 Output Shape              Param #   \n",
            "=================================================================\n",
            "flatten_3 (Flatten)          (None, 784)               0         \n",
            "_________________________________________________________________\n",
            "dense_6 (Dense)              (None, 300)               235500    \n",
            "_________________________________________________________________\n",
            "dense_7 (Dense)              (None, 100)               30100     \n",
            "_________________________________________________________________\n",
            "dense_8 (Dense)              (None, 10)                1010      \n",
            "=================================================================\n",
            "Total params: 266,610\n",
            "Trainable params: 266,610\n",
            "Non-trainable params: 0\n",
            "_________________________________________________________________\n"
          ],
          "name": "stdout"
        }
      ]
    },
    {
      "cell_type": "code",
      "metadata": {
        "id": "AyYnObowEb7t"
      },
      "source": [
        "# compile the model\n",
        "model.compile(loss='sparse_categorical_crossentropy', optimizer='sgd', metrics=['accuracy'])"
      ],
      "execution_count": 42,
      "outputs": []
    },
    {
      "cell_type": "code",
      "metadata": {
        "id": "kdSLbjM8EnOF"
      },
      "source": [
        "# run the model\n",
        "history = model.fit(X_train, y_train, batch_size=32, epochs=10, validation_data=(X_valid, y_valid), verbose=0)"
      ],
      "execution_count": 43,
      "outputs": []
    },
    {
      "cell_type": "code",
      "metadata": {
        "id": "udiePrj9EvFg"
      },
      "source": [
        "# plot the training and validation accuracy and loss\n",
        "import pandas as pd\n",
        "df = pd.DataFrame(history.history)"
      ],
      "execution_count": 44,
      "outputs": []
    },
    {
      "cell_type": "code",
      "metadata": {
        "colab": {
          "base_uri": "https://localhost:8080/",
          "height": 513
        },
        "id": "w82kyMYBFG46",
        "outputId": "b988e71d-f64c-47b1-8040-58b2b4f9f69c"
      },
      "source": [
        "import matplotlib.pyplot as plt\n",
        "df.plot(figsize=(10,8))\n",
        "plt.title('Training and Validation Accuracy and Loss')\n",
        "plt.ylim([0, 1.])\n",
        "plt.xlabel('Epochs')\n",
        "plt.ylabel('Accuracy, Loss')\n",
        "plt.grid(True)\n"
      ],
      "execution_count": 45,
      "outputs": [
        {
          "output_type": "display_data",
          "data": {
            "image/png": "[encoded data removed]",
            "text/plain": [
              "<Figure size 720x576 with 1 Axes>"
            ]
          },
          "metadata": {
            "tags": [],
            "needs_background": "light"
          }
        }
      ]
    },
    {
      "cell_type": "markdown",
      "metadata": {
        "id": "jSEDdr8fnku_"
      },
      "source": [
        "**Using a function to automatically evaluate different NN models**"
      ]
    },
    {
      "cell_type": "markdown",
      "metadata": {
        "id": "A9v2iZb0nmW9"
      },
      "source": [
        "Using the nn_utils function **create_nn_models** to automatically create different NN architectures (based on number of neurons in the middle layer)and also automatically run the NN models.\n",
        "\n",
        "Notice that the input layer and output layer are added automatically. The output layer is a Dense layer with softmax activation. \n",
        "\n",
        "Basically, the function can run several NN models based on the arguments specified. To run an NN with one hidden layer with 300 neurons, we specify [[300]] as the argument. To run two different NN architectures each with 300 and 200 hidden layers, we pass the arguments [[300], [200]]. Additionally to run the above activations with multiple hidden layers we can specify the following:\n",
        "[[300, 200, 100], [200, 100, 50]]. This will run two NN models each with 3 hidden layers and the number of specified in the list parameters. Specifically, the first model has 3 dense hidden layers with 300, 200, 100 neurons respectively."
      ]
    },
    {
      "cell_type": "code",
      "metadata": {
        "colab": {
          "base_uri": "https://localhost:8080/",
          "height": 181
        },
        "id": "JsCYyQrNsrEm",
        "outputId": "f149d864-2796-4ff2-ce55-10a06bd48de6"
      },
      "source": [
        "nn_hidden_layer_info = [[300]]\n",
        "models = nn_utils.run_nn_models(X_train, y_train, X_valid, y_valid, nn_hidden_layer_info)"
      ],
      "execution_count": 69,
      "outputs": [
        {
          "output_type": "error",
          "ename": "TypeError",
          "evalue": "ignored",
          "traceback": [
            "\u001b[0;31m---------------------------------------------------------------------------\u001b[0m",
            "\u001b[0;31mTypeError\u001b[0m                                 Traceback (most recent call last)",
            "\u001b[0;32m<ipython-input-69-bad809402a45>\u001b[0m in \u001b[0;36m<module>\u001b[0;34m()\u001b[0m\n\u001b[1;32m      1\u001b[0m \u001b[0mnn_hidden_layer_info\u001b[0m \u001b[0;34m=\u001b[0m \u001b[0;34m[\u001b[0m\u001b[0;34m[\u001b[0m\u001b[0;36m300\u001b[0m\u001b[0;34m]\u001b[0m\u001b[0;34m]\u001b[0m\u001b[0;34m\u001b[0m\u001b[0;34m\u001b[0m\u001b[0m\n\u001b[0;32m----> 2\u001b[0;31m \u001b[0mmodels\u001b[0m \u001b[0;34m=\u001b[0m \u001b[0mnn_utils\u001b[0m\u001b[0;34m.\u001b[0m\u001b[0mrun_nn_models\u001b[0m\u001b[0;34m(\u001b[0m\u001b[0mX_train\u001b[0m\u001b[0;34m,\u001b[0m \u001b[0my_train\u001b[0m\u001b[0;34m,\u001b[0m \u001b[0mX_valid\u001b[0m\u001b[0;34m,\u001b[0m \u001b[0my_valid\u001b[0m\u001b[0;34m,\u001b[0m \u001b[0mnn_hidden_layer_info\u001b[0m\u001b[0;34m)\u001b[0m\u001b[0;34m\u001b[0m\u001b[0;34m\u001b[0m\u001b[0m\n\u001b[0m",
            "\u001b[0;31mTypeError\u001b[0m: run_nn_models() takes from 1 to 3 positional arguments but 5 were given"
          ]
        }
      ]
    },
    {
      "cell_type": "code",
      "metadata": {
        "id": "WC-WIIRooBN8"
      },
      "source": [
        ""
      ],
      "execution_count": 48,
      "outputs": []
    }
  ]
}
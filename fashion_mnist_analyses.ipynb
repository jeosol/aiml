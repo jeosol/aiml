{
 "cells": [
  {
   "cell_type": "markdown",
   "metadata": {
    "colab_type": "text",
    "id": "view-in-github"
   },
   "source": [
    "<a href=\"https://colab.research.google.com/github/jeosol/aiml/blob/main/fashion_mnist_analyses.ipynb\" target=\"_parent\"><img src=\"https://colab.research.google.com/assets/colab-badge.svg\" alt=\"Open In Colab\"/></a>"
   ]
  },
  {
   "cell_type": "code",
   "execution_count": null,
   "metadata": {
    "id": "_tZWRAoan0cK"
   },
   "outputs": [],
   "source": []
  },
  {
   "cell_type": "code",
   "execution_count": 1,
   "metadata": {
    "colab": {
     "base_uri": "https://localhost:8080/"
    },
    "id": "tWcoV3eAJOtX",
    "outputId": "7d1eb673-4eef-422c-b63b-7e0c99b20cf5"
   },
   "outputs": [
    {
     "name": "stdout",
     "output_type": "stream",
     "text": [
      "Cloning into 'aiml'...\n",
      "remote: Enumerating objects: 23, done.\u001b[K\n",
      "remote: Counting objects: 100% (23/23), done.\u001b[K\n",
      "remote: Compressing objects: 100% (20/20), done.\u001b[K\n",
      "remote: Total 23 (delta 5), reused 6 (delta 1), pack-reused 0\u001b[K\n",
      "Unpacking objects: 100% (23/23), done.\n"
     ]
    }
   ],
   "source": [
    "!git clone https://github.com/jeosol/aiml.git"
   ]
  },
  {
   "cell_type": "code",
   "execution_count": 1,
   "metadata": {
    "colab": {
     "base_uri": "https://localhost:8080/"
    },
    "id": "qKTgD6udssj2",
    "outputId": "47ed9319-37ca-4576-b23f-d1f527535331"
   },
   "outputs": [
    {
     "ename": "ModuleNotFoundError",
     "evalue": "No module named 'google.colab'",
     "output_type": "error",
     "traceback": [
      "\u001b[0;31m---------------------------------------------------------------------------\u001b[0m",
      "\u001b[0;31mModuleNotFoundError\u001b[0m                       Traceback (most recent call last)",
      "\u001b[0;32m<ipython-input-1-4996ee3d8d09>\u001b[0m in \u001b[0;36m<module>\u001b[0;34m\u001b[0m\n\u001b[0;32m----> 1\u001b[0;31m \u001b[0;32mfrom\u001b[0m \u001b[0mgoogle\u001b[0m\u001b[0;34m.\u001b[0m\u001b[0mcolab\u001b[0m \u001b[0;32mimport\u001b[0m \u001b[0mdrive\u001b[0m\u001b[0;34m\u001b[0m\u001b[0;34m\u001b[0m\u001b[0m\n\u001b[0m\u001b[1;32m      2\u001b[0m \u001b[0mdrive\u001b[0m\u001b[0;34m.\u001b[0m\u001b[0mmount\u001b[0m\u001b[0;34m(\u001b[0m\u001b[0;34m'/content/gdrive'\u001b[0m\u001b[0;34m)\u001b[0m\u001b[0;34m\u001b[0m\u001b[0;34m\u001b[0m\u001b[0m\n",
      "\u001b[0;31mModuleNotFoundError\u001b[0m: No module named 'google.colab'"
     ]
    }
   ],
   "source": [
    "#from google.colab import drive\n",
    "#drive.mount('/content/gdrive')"
   ]
  },
  {
   "cell_type": "code",
   "execution_count": 2,
   "metadata": {
    "id": "VANgv3UdlUM9"
   },
   "outputs": [],
   "source": [
    "#import sys\n",
    "#sys.path.append('/content/gdrive/MyDrive/python')"
   ]
  },
  {
   "cell_type": "code",
   "execution_count": 68,
   "metadata": {
    "id": "VkFMYoxSlYIm"
   },
   "outputs": [],
   "source": [
    "import utils as nn_utils"
   ]
  },
  {
   "cell_type": "markdown",
   "metadata": {
    "id": "p29nMyEXJPLt"
   },
   "source": [
    "## Several DL concepts applied to the MNIST datasetth"
   ]
  },
  {
   "cell_type": "code",
   "execution_count": 6,
   "metadata": {
    "id": "bCQ8y7d1GopG"
   },
   "outputs": [],
   "source": [
    "#%tensorflow_version 2.x"
   ]
  },
  {
   "cell_type": "code",
   "execution_count": 8,
   "metadata": {
    "id": "1IByEAimCqrf"
   },
   "outputs": [],
   "source": [
    "import tensorflow as tf\n",
    "from tensorflow import keras\n",
    "import numpy as np\n",
    "import pandas as df\n",
    "import matplotlib.pyplot as plt"
   ]
  },
  {
   "cell_type": "markdown",
   "metadata": {
    "id": "S79DFpNOJ5vU"
   },
   "source": [
    "**Load the MNIST data using keras API**"
   ]
  },
  {
   "cell_type": "code",
   "execution_count": 9,
   "metadata": {
    "id": "jnVb9j01Ct1-"
   },
   "outputs": [],
   "source": [
    "fashion_mnist = keras.datasets.fashion_mnist\n"
   ]
  },
  {
   "cell_type": "code",
   "execution_count": 10,
   "metadata": {
    "colab": {
     "base_uri": "https://localhost:8080/"
    },
    "id": "2onAH-t8C926",
    "outputId": "51389975-c5ef-4b65-93a2-74076266c3d3"
   },
   "outputs": [],
   "source": [
    "(X_train_full, y_train_full), (X_test, y_test) = fashion_mnist.load_data()"
   ]
  },
  {
   "cell_type": "code",
   "execution_count": 11,
   "metadata": {
    "id": "J30uvw9_C_er"
   },
   "outputs": [],
   "source": [
    "# Normalize the data so we get good performance with gradient descent algorithm\n",
    "X_valid, X_train = X_train_full[:5000]/255.0, X_train_full[5000:]/255.0\n",
    "y_valid, y_train = y_train_full[:5000], y_train_full[5000:]\n",
    "X_test = X_test/255.0"
   ]
  },
  {
   "cell_type": "code",
   "execution_count": 12,
   "metadata": {
    "id": "No_T7FEhD8aW"
   },
   "outputs": [],
   "source": [
    "class_names = ['T-shirt/top', 'Trouser', 'Pullover', 'Dress', 'Coat', 'Sandal', 'Shirt', 'Sneaker', 'Bag', 'Ankle boot']"
   ]
  },
  {
   "cell_type": "markdown",
   "metadata": {
    "id": "125a2IW0KXgr"
   },
   "source": [
    "Simple **setup**"
   ]
  },
  {
   "cell_type": "code",
   "execution_count": 13,
   "metadata": {
    "id": "ip0-X5t1D_hV"
   },
   "outputs": [],
   "source": [
    "# Create the model and add the layers \n",
    "model = keras.models.Sequential()\n",
    "model.add(keras.layers.Flatten(input_shape=[28,28]))\n",
    "model.add(keras.layers.Dense(300, activation='relu'))\n",
    "model.add(keras.layers.Dense(100, activation='relu'))\n",
    "model.add(keras.layers.Dense(10, activation='softmax'))"
   ]
  },
  {
   "cell_type": "code",
   "execution_count": 14,
   "metadata": {
    "colab": {
     "base_uri": "https://localhost:8080/"
    },
    "id": "54chSwLhEa9u",
    "outputId": "ab1d321e-8f70-4d02-92ba-91d738edef7e"
   },
   "outputs": [
    {
     "name": "stdout",
     "output_type": "stream",
     "text": [
      "Model: \"sequential\"\n",
      "_________________________________________________________________\n",
      "Layer (type)                 Output Shape              Param #   \n",
      "=================================================================\n",
      "flatten (Flatten)            (None, 784)               0         \n",
      "_________________________________________________________________\n",
      "dense (Dense)                (None, 300)               235500    \n",
      "_________________________________________________________________\n",
      "dense_1 (Dense)              (None, 100)               30100     \n",
      "_________________________________________________________________\n",
      "dense_2 (Dense)              (None, 10)                1010      \n",
      "=================================================================\n",
      "Total params: 266,610\n",
      "Trainable params: 266,610\n",
      "Non-trainable params: 0\n",
      "_________________________________________________________________\n"
     ]
    }
   ],
   "source": [
    "model.summary()"
   ]
  },
  {
   "cell_type": "code",
   "execution_count": 15,
   "metadata": {
    "id": "AyYnObowEb7t"
   },
   "outputs": [],
   "source": [
    "# compile the model\n",
    "model.compile(loss='sparse_categorical_crossentropy', optimizer='sgd', metrics=['accuracy'])"
   ]
  },
  {
   "cell_type": "code",
   "execution_count": 16,
   "metadata": {
    "id": "kdSLbjM8EnOF"
   },
   "outputs": [],
   "source": [
    "# run the model\n",
    "history = model.fit(X_train, y_train, batch_size=32, epochs=10, validation_data=(X_valid, y_valid), verbose=0)"
   ]
  },
  {
   "cell_type": "code",
   "execution_count": 17,
   "metadata": {
    "id": "udiePrj9EvFg"
   },
   "outputs": [],
   "source": [
    "# plot the training and validation accuracy and loss\n",
    "import pandas as pd\n",
    "df = pd.DataFrame(history.history)"
   ]
  },
  {
   "cell_type": "code",
   "execution_count": 51,
   "metadata": {
    "colab": {
     "base_uri": "https://localhost:8080/",
     "height": 513
    },
    "id": "w82kyMYBFG46",
    "outputId": "b988e71d-f64c-47b1-8040-58b2b4f9f69c"
   },
   "outputs": [
    {
     "data": {
      "image/png": "[encoded data removed]",
      "text/plain": [
       "<Figure size 360x360 with 1 Axes>"
      ]
     },
     "metadata": {
      "needs_background": "light"
     },
     "output_type": "display_data"
    }
   ],
   "source": [
    "import matplotlib.pyplot as plt\n",
    "fontsize = 12\n",
    "df.plot(figsize=(5,5))\n",
    "plt.title('Training and Validation Accuracy and Loss', fontsize=fontsize)\n",
    "plt.ylim([0, 1.])\n",
    "plt.xlabel('Epochs', fontsize=fontsize)\n",
    "plt.ylabel('Accuracy, Loss', fontsize=fontsize)\n",
    "plt.xticks(fontsize=fontsize)\n",
    "plt.yticks(fontsize=fontsize)\n",
    "plt.grid(True)\n"
   ]
  },
  {
   "cell_type": "markdown",
   "metadata": {
    "id": "jSEDdr8fnku_"
   },
   "source": [
    "## Automatically generating the network architecture"
   ]
  },
  {
   "cell_type": "markdown",
   "metadata": {
    "id": "A9v2iZb0nmW9"
   },
   "source": [
    "In the above example, we built the network architecture by entering the relevant commands. Often times, it is important to try different network architecture, e.g., varying the number of hidden layers and the number of associated neurons. This can get cumberson. \n",
    "\n",
    "I wrote a simple function to automatically generate sequential NN architectures by varying the number of hidden layers and the number of neurons using function **create_nn_models**. \n",
    "\n",
    "The function is a bit complicated to describe in words, so we will use an example. Let us consider the following simple sequential, fully connected NNs shown in Figure 1<sup>1</sup>. \n",
    "\n",
    "<img src=\"simple_nn_networks_double.png\">\n",
    "\n",
    "Fig 1. Simple Neural Network (<small>after http://carina.cse.lehigh.edu/Data_Analytics_Course/1.%20Image%20Classification%20using%20Neural%20Network.html</small>)\n",
    "\n"
   ]
  },
  {
   "cell_type": "markdown",
   "metadata": {},
   "source": [
    "Figure 1 shows two networks. The network on the left is a 2-layer neural network comprising of 4 hidden layers and an output layer with two neurons. Similarly, the network on the right is a 3-layer neural network with two hidden layer, each with 4 neurons and one output layer with a single neuron. \n",
    "\n",
    "Using the run_nn_models function, we can evaluate both models by passing the relevant parameters to the function as shown below:\n",
    "\n",
    "**Left network**:\n",
    "\n",
    "hidden_layer_infos = [[4]]\n",
    "\n",
    "models, case_names = nn_utils.run_nn_models(X_train, y_train, X_valid, y_valid, hidden_layer_infos, output_layer_unit=2, epochs=2, verbose=1)\n",
    "\n",
    "**Right network**:\n",
    "\n",
    "hidden_layer_infos = [[4,4]]\n",
    "\n",
    "models, case_names = nn_utils.run_nn_models(X_train, y_train, X_valid, y_valid, hidden_layer_infos, output_layer_unit=1, epochs=2, verbose=1)\n",
    "\n"
   ]
  },
  {
   "cell_type": "markdown",
   "metadata": {},
   "source": [
    "## Apply the NN model autogeneration function"
   ]
  },
  {
   "cell_type": "markdown",
   "metadata": {},
   "source": [
    "For the fashion mnist we can run two NN models each with one hidden layer containing 100 and 50 neurons respectively."
   ]
  },
  {
   "cell_type": "code",
   "execution_count": 77,
   "metadata": {
    "colab": {
     "base_uri": "https://localhost:8080/",
     "height": 181
    },
    "id": "JsCYyQrNsrEm",
    "outputId": "f149d864-2796-4ff2-ce55-10a06bd48de6"
   },
   "outputs": [
    {
     "name": "stdout",
     "output_type": "stream",
     "text": [
      "Epoch 1/2\n",
      "1719/1719 [==============================] - 2s 1ms/step - loss: 0.7617 - accuracy: 0.7544 - val_loss: 0.5478 - val_accuracy: 0.8228\n",
      "Epoch 2/2\n",
      "1719/1719 [==============================] - 1s 858us/step - loss: 0.5221 - accuracy: 0.8224 - val_loss: 0.4847 - val_accuracy: 0.8396\n",
      "Epoch 1/2\n",
      "1719/1719 [==============================] - 2s 932us/step - loss: 0.7886 - accuracy: 0.7469 - val_loss: 0.5673 - val_accuracy: 0.8212\n",
      "Epoch 2/2\n",
      "1719/1719 [==============================] - 2s 1ms/step - loss: 0.5338 - accuracy: 0.8204 - val_loss: 0.5010 - val_accuracy: 0.8270\n",
      "#hidden_layer(s)=hidden_layers_neurons[100] Cost=[0.761694610118866, 0.5221201181411743], Accuracy=[0.7543636560440063, 0.8224363923072815] Val_Cost=[0.5477593541145325, 0.4846944212913513], Val_Accuracy=[0.8227999806404114, 0.8396000266075134]\n",
      "#hidden_layer(s)=hidden_layers_neurons[50] Cost=[0.7885759472846985, 0.5337582230567932], Accuracy=[0.7468545436859131, 0.8204181790351868] Val_Cost=[0.5672590136528015, 0.5010010004043579], Val_Accuracy=[0.8212000131607056, 0.8270000219345093]\n"
     ]
    }
   ],
   "source": [
    "# Now lets run two NN models each with one hidden layer containing 100 and 50  neurons respectively. \n",
    "hidden_layer_infos = [[100], [50]]\n",
    "models, case_names = nn_utils.run_nn_models(X_train, y_train, X_valid, y_valid, hidden_layer_infos, output_layer_unit=10, epochs=2, verbose=1)"
   ]
  },
  {
   "cell_type": "markdown",
   "metadata": {},
   "source": [
    "## Loss and Accuracy Plots"
   ]
  },
  {
   "cell_type": "code",
   "execution_count": 78,
   "metadata": {},
   "outputs": [
    {
     "data": {
      "image/png": "[encoded data removed]",
      "text/plain": [
       "<Figure size 1080x1080 with 4 Axes>"
      ]
     },
     "metadata": {
      "needs_background": "light"
     },
     "output_type": "display_data"
    }
   ],
   "source": [
    "nn_utils.plot_info(models, case_names)"
   ]
  },
  {
   "cell_type": "code",
   "execution_count": null,
   "metadata": {},
   "outputs": [],
   "source": []
  }
 ],
 "metadata": {
  "colab": {
   "authorship_tag": "ABX9TyMGNX/doVvrWf3bNyKGC/vP",
   "include_colab_link": true,
   "mount_file_id": "https://github.com/jeosol/aiml/blob/main/fashion_mnist_analyses.ipynb",
   "name": "Untitled0.ipynb",
   "provenance": []
  },
  "kernelspec": {
   "display_name": "Python 3",
   "language": "python",
   "name": "python3"
  },
  "language_info": {
   "codemirror_mode": {
    "name": "ipython",
    "version": 3
   },
   "file_extension": ".py",
   "mimetype": "text/x-python",
   "name": "python",
   "nbconvert_exporter": "python",
   "pygments_lexer": "ipython3",
   "version": "3.9.0"
  }
 },
 "nbformat": 4,
 "nbformat_minor": 1
}
